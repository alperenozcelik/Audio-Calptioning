{
  "cells": [
    {
      "cell_type": "code",
      "execution_count": null,
      "metadata": {
        "id": "-6JTNSO2bN3a"
      },
      "outputs": [],
      "source": [
        "import numpy as np\n",
        "import pandas as pd\n",
        "import os\n",
        "import sys\n",
        "from PIL import Image\n",
        "import matplotlib.pyplot as plt\n",
        "import librosa\n",
        "import json"
      ]
    },
    {
      "cell_type": "code",
      "execution_count": null,
      "metadata": {
        "id": "fuuHr810beTX"
      },
      "outputs": [],
      "source": [
        "def create_dataset(folder_path): \n",
        "  images = []\n",
        "  names = []\n",
        "  for file in os.listdir(folder_path):\n",
        "    \n",
        "    image_path = os.path.join(folder_path, file)\n",
        "\n",
        "    size = Image.open(image_path).size\n",
        "    image = np.array(Image.open(image_path).resize((int(size[0]/4),int(size[1]/2))))\n",
        "    image = image.astype('float32')\n",
        "    image = np.delete(image, [3], axis=2)\n",
        "\n",
        "    image /= 255.0\n",
        "    if file[:-4] != 'axqtExFY5-s (1)':\n",
        "      images.append(image)\n",
        "      names.append(file[:-4])\n",
        "\n",
        "  max_len = 0\n",
        "  for i in range(len(images)):\n",
        "    length = images[i].shape[1]\n",
        "    if length>max_len:\n",
        "      max_len=length\n",
        "\n",
        "  for i in range(len(images)):\n",
        "    images[i] = librosa.util.fix_length(images[i], int(max_len), axis=1)\n",
        "\n",
        "  images = np.array(images)\n",
        "\n",
        "  df = pd.read_csv('/content/drive/MyDrive/YouTubeID_and_Keywords.csv')\n",
        "\n",
        "  keywords = []\n",
        "  for i in names:\n",
        "    if i in df.YTID.to_list():\n",
        "      keys = df.Keywords[df.YTID == i].to_list()\n",
        "      keywords.append(keys[0].split(';'))\n",
        "    else:\n",
        "      print(i)\n",
        "\n",
        "  return names,images,keywords"
      ]
    },
    {
      "cell_type": "code",
      "execution_count": null,
      "metadata": {
        "id": "HAYN0QNVbeQE"
      },
      "outputs": [],
      "source": [
        "names, images, keywords = create_dataset('/content/drive/MyDrive/Pre-Training Images')"
      ]
    },
    {
      "cell_type": "code",
      "execution_count": null,
      "metadata": {
        "colab": {
          "base_uri": "https://localhost:8080/"
        },
        "id": "7Tm6ez9VbeOD",
        "outputId": "0efd9c20-9e77-49d8-b1be-a39d8e281f5b"
      },
      "outputs": [
        {
          "output_type": "stream",
          "name": "stdout",
          "text": [
            "527\n"
          ]
        }
      ],
      "source": [
        "from sklearn.preprocessing import MultiLabelBinarizer\n",
        "mlb = MultiLabelBinarizer()\n",
        "multihot = mlb.fit_transform(keywords)\n",
        "class_labels = list(mlb.classes_)\n",
        "print(len(class_labels))"
      ]
    },
    {
      "cell_type": "code",
      "execution_count": null,
      "metadata": {
        "id": "yIpIhub1beL7"
      },
      "outputs": [],
      "source": [
        "from sklearn.model_selection import train_test_split\n",
        "X_train, X_test, y_train, y_test = train_test_split(images, multihot, test_size=0.20, random_state=42)\n",
        "print(X_train.shape, X_test.shape, y_train.shape, y_test.shape)"
      ]
    },
    {
      "cell_type": "code",
      "execution_count": null,
      "metadata": {
        "id": "s1V4BwTVbeJm"
      },
      "outputs": [],
      "source": [
        "from sklearn.utils import shuffle\n",
        "from tensorflow.keras.utils import to_categorical\n",
        "from keras.models import Sequential\n",
        "from keras.layers import Dense, Dropout, Conv2D, MaxPool2D, Flatten\n",
        "from tensorflow.keras.optimizers import SGD\n",
        "from keras.layers.pooling import AveragePooling2D\n",
        "from keras.layers.normalization.batch_normalization import BatchNormalization\n",
        "import tensorflow as tf"
      ]
    },
    {
      "cell_type": "code",
      "execution_count": null,
      "metadata": {
        "id": "U-aohHhqbeFL"
      },
      "outputs": [],
      "source": [
        "# Create CNN model\n",
        "model = tf.keras.models.Sequential()\n",
        "model.add(tf.keras.layers.Input(shape=(64, 107, 3)))\n",
        "model.add(tf.keras.layers.Conv2D(64, 3, padding='same', activation='relu'))\n",
        "model.add(tf.keras.layers.BatchNormalization())\n",
        "model.add(tf.keras.layers.MaxPooling2D(pool_size=(2, 2)))\n",
        "model.add(tf.keras.layers.BatchNormalization())\n",
        "model.add(tf.keras.layers.Conv2D(128, 3, padding='same', activation='relu'))\n",
        "model.add(tf.keras.layers.BatchNormalization())\n",
        "model.add(tf.keras.layers.MaxPooling2D(pool_size=(2, 2)))\n",
        "model.add(tf.keras.layers.BatchNormalization())\n",
        "model.add(tf.keras.layers.Flatten())\n",
        "model.add(tf.keras.layers.Dense(256, activation='relu'))\n",
        "model.add(tf.keras.layers.BatchNormalization())\n",
        "model.add(tf.keras.layers.Dropout(0.2))\n",
        "model.add(tf.keras.layers.Dense(len(class_labels), activation='softmax'))"
      ]
    },
    {
      "cell_type": "code",
      "execution_count": null,
      "metadata": {
        "id": "kXdSc-HBbeDC"
      },
      "outputs": [],
      "source": [
        "# Compile model\n",
        "model.compile(\n",
        "    loss='categorical_crossentropy',\n",
        "    optimizer=SGD(learning_rate=0.0001, momentum=0.6),\n",
        "    metrics=['accuracy'],\n",
        ")"
      ]
    },
    {
      "cell_type": "code",
      "execution_count": null,
      "metadata": {
        "colab": {
          "base_uri": "https://localhost:8080/"
        },
        "id": "zJTCxFdwbeA7",
        "outputId": "cb75dc80-2770-4e4c-e7d9-c71b98f3bf53"
      },
      "outputs": [
        {
          "output_type": "stream",
          "name": "stdout",
          "text": [
            "Epoch 1/10\n",
            "295/295 [==============================] - 363s 1s/step - loss: 14.9075 - accuracy: 0.0545 - val_loss: 17.5264 - val_accuracy: 0.0083\n",
            "Epoch 2/10\n",
            "295/295 [==============================] - 344s 1s/step - loss: 14.0775 - accuracy: 0.0837 - val_loss: 15.6352 - val_accuracy: 0.0216\n",
            "Epoch 3/10\n",
            "295/295 [==============================] - 344s 1s/step - loss: 13.6874 - accuracy: 0.0898 - val_loss: 13.7940 - val_accuracy: 0.0908\n",
            "Epoch 4/10\n",
            "295/295 [==============================] - 343s 1s/step - loss: 13.4029 - accuracy: 0.0968 - val_loss: 13.7240 - val_accuracy: 0.1000\n",
            "Epoch 5/10\n",
            "295/295 [==============================] - 343s 1s/step - loss: 13.1689 - accuracy: 0.1011 - val_loss: 13.6736 - val_accuracy: 0.1015\n",
            "Epoch 6/10\n",
            "295/295 [==============================] - 344s 1s/step - loss: 12.9827 - accuracy: 0.1027 - val_loss: 13.5802 - val_accuracy: 0.0936\n",
            "Epoch 7/10\n",
            "295/295 [==============================] - 339s 1s/step - loss: 12.7885 - accuracy: 0.1058 - val_loss: 13.5633 - val_accuracy: 0.1090\n",
            "Epoch 8/10\n",
            "295/295 [==============================] - 345s 1s/step - loss: 12.6162 - accuracy: 0.1103 - val_loss: 13.4191 - val_accuracy: 0.1070\n",
            "Epoch 9/10\n",
            "295/295 [==============================] - 445s 2s/step - loss: 12.4584 - accuracy: 0.1121 - val_loss: 13.4114 - val_accuracy: 0.1092\n",
            "Epoch 10/10\n",
            "295/295 [==============================] - 436s 1s/step - loss: 12.2838 - accuracy: 0.1155 - val_loss: 13.3136 - val_accuracy: 0.1043\n"
          ]
        }
      ],
      "source": [
        "history = model.fit(X_train, y_train, epochs=10, validation_data=(X_test, y_test))"
      ]
    },
    {
      "cell_type": "code",
      "execution_count": null,
      "metadata": {
        "id": "86VcJwXEbd-n"
      },
      "outputs": [],
      "source": [
        ""
      ]
    }
  ],
  "metadata": {
    "colab": {
      "name": "6LayerCNN.ipynb",
      "provenance": []
    },
    "kernelspec": {
      "display_name": "Python 3",
      "name": "python3"
    },
    "language_info": {
      "name": "python"
    }
  },
  "nbformat": 4,
  "nbformat_minor": 0
}