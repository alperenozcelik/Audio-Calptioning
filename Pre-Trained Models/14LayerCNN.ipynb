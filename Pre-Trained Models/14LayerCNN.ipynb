{
  "nbformat": 4,
  "nbformat_minor": 0,
  "metadata": {
    "colab": {
      "name": "14LayerCNN.ipynb",
      "provenance": [],
      "collapsed_sections": []
    },
    "kernelspec": {
      "name": "python3",
      "display_name": "Python 3"
    },
    "language_info": {
      "name": "python"
    }
  },
  "cells": [
    {
      "cell_type": "code",
      "execution_count": null,
      "metadata": {
        "id": "gGI2GGp7Nf3e"
      },
      "outputs": [],
      "source": [
        "import numpy as np\n",
        "import pandas as pd\n",
        "import os\n",
        "import sys\n",
        "from PIL import Image\n",
        "import matplotlib.pyplot as plt\n",
        "import librosa\n",
        "import json"
      ]
    },
    {
      "cell_type": "code",
      "source": [
        "def create_dataset(folder_path): \n",
        "  images = []\n",
        "  names = []\n",
        "  for file in os.listdir(folder_path):\n",
        "    image_path = os.path.join(folder_path, file)\n",
        "\n",
        "    size = Image.open(image_path).size\n",
        "    image = np.array(Image.open(image_path).resize((int(size[0]/4),int(size[1]/2))))\n",
        "    image = image.astype('float32')\n",
        "    image = np.delete(image, [3], axis=2)\n",
        "\n",
        "    image /= 255.0\n",
        "    if file[:-4] != 'axqtExFY5-s (1)':\n",
        "      images.append(image)\n",
        "      names.append(file[:-4])\n",
        "\n",
        "  max_len = 0\n",
        "  for i in range(len(images)):\n",
        "    length = images[i].shape[1]\n",
        "    if length>max_len:\n",
        "      max_len=length\n",
        "\n",
        "  for i in range(len(images)):\n",
        "    images[i] = librosa.util.fix_length(images[i], int(max_len), axis=1)\n",
        "\n",
        "  images = np.array(images)\n",
        "\n",
        "  df = pd.read_csv('/content/drive/MyDrive/YouTubeID_and_Keywords.csv')\n",
        "\n",
        "  keywords = []\n",
        "  for i in names:\n",
        "    if i in df.YTID.to_list():\n",
        "      keys = df.Keywords[df.YTID == i].to_list()\n",
        "      keywords.append(keys[0].split(';'))\n",
        "    else:\n",
        "      print(i)\n",
        "\n",
        "  return names,images,keywords"
      ],
      "metadata": {
        "id": "iLt1nIUMTwGY"
      },
      "execution_count": null,
      "outputs": []
    },
    {
      "cell_type": "code",
      "source": [
        "names, images, keywords = create_dataset('/content/drive/MyDrive/Pre-Training Images')"
      ],
      "metadata": {
        "id": "pNupl540UAhf"
      },
      "execution_count": null,
      "outputs": []
    },
    {
      "cell_type": "code",
      "source": [
        "all_words = []\n",
        "for i in keywords:\n",
        "  for j in i:\n",
        "    if len(j)>2:\n",
        "      all_words.append(j)\n",
        "\n",
        "len(all_words)"
      ],
      "metadata": {
        "id": "alDffuaqI7JD",
        "outputId": "7a2e8ff0-220f-44a1-b20d-2f88bb134cec",
        "colab": {
          "base_uri": "https://localhost:8080/"
        }
      },
      "execution_count": null,
      "outputs": [
        {
          "output_type": "execute_result",
          "data": {
            "text/plain": [
              "45288"
            ]
          },
          "metadata": {},
          "execution_count": 32
        }
      ]
    },
    {
      "cell_type": "code",
      "source": [
        "from collections import Counter\n",
        "\n",
        "frequency_list = Counter(all_words).most_common(300)"
      ],
      "metadata": {
        "id": "3Cnv8um2JDrz"
      },
      "execution_count": null,
      "outputs": []
    },
    {
      "cell_type": "code",
      "source": [
        "keywords_updated = []\n",
        "for j in range(len(keywords)):\n",
        "  keyword_list = []\n",
        "  for i in frequency_list:\n",
        "    if i[0] in keywords[j]:\n",
        "      keyword_list.append(i[0])\n",
        "  keywords_updated.append(keyword_list)"
      ],
      "metadata": {
        "id": "nE7_iZg_JGzH"
      },
      "execution_count": null,
      "outputs": []
    },
    {
      "cell_type": "code",
      "source": [
        "from sklearn.preprocessing import MultiLabelBinarizer\n",
        "mlb = MultiLabelBinarizer()\n",
        "multihot = mlb.fit_transform(keywords_updated)\n",
        "class_labels = list(mlb.classes_)\n",
        "print(len(class_labels))"
      ],
      "metadata": {
        "id": "HfD7rDzovTcJ",
        "colab": {
          "base_uri": "https://localhost:8080/"
        },
        "outputId": "a7ca483f-336d-4b7d-fe17-c76403788d76"
      },
      "execution_count": null,
      "outputs": [
        {
          "output_type": "stream",
          "name": "stdout",
          "text": [
            "300\n"
          ]
        }
      ]
    },
    {
      "cell_type": "code",
      "source": [
        "from sklearn.model_selection import train_test_split\n",
        "X_train, X_test, y_train, y_test = train_test_split(images, multihot, test_size=0.20, random_state=42)\n",
        "print(X_train.shape, X_test.shape, y_train.shape, y_test.shape)"
      ],
      "metadata": {
        "id": "JT6NULOtvTVP",
        "colab": {
          "base_uri": "https://localhost:8080/"
        },
        "outputId": "8e1bcee2-ebf7-4973-a361-901d5e30eb2f"
      },
      "execution_count": null,
      "outputs": [
        {
          "output_type": "stream",
          "name": "stdout",
          "text": [
            "(15100, 64, 107, 3) (3776, 64, 107, 3) (15100, 300) (3776, 300)\n"
          ]
        }
      ]
    },
    {
      "cell_type": "code",
      "source": [
        "from sklearn.utils import shuffle\n",
        "from tensorflow.keras.utils import to_categorical\n",
        "from keras.models import Sequential\n",
        "from keras.layers import Dense, Dropout, Conv2D, MaxPool2D, Flatten\n",
        "from tensorflow.keras.optimizers import SGD\n",
        "from keras.layers.pooling import AveragePooling2D\n",
        "from keras.layers.normalization.batch_normalization import BatchNormalization\n",
        "import tensorflow as tf"
      ],
      "metadata": {
        "id": "1Ax77YNINpmd"
      },
      "execution_count": null,
      "outputs": []
    },
    {
      "cell_type": "code",
      "source": [
        "# Create CNN model\n",
        "model = tf.keras.models.Sequential()\n",
        "model.add(tf.keras.layers.Input(shape=(64, 107, 3)))\n",
        "model.add(tf.keras.layers.Conv2D(64, 3, strides=2, padding='same', activation='relu'))\n",
        "model.add(tf.keras.layers.BatchNormalization())\n",
        "model.add(tf.keras.layers.MaxPooling2D(pool_size=(2, 2)))\n",
        "model.add(tf.keras.layers.BatchNormalization())\n",
        "model.add(tf.keras.layers.Conv2D(128, 3, strides=2, padding='same', activation='relu'))\n",
        "model.add(tf.keras.layers.BatchNormalization())\n",
        "model.add(tf.keras.layers.MaxPooling2D(pool_size=(2, 2)))\n",
        "model.add(tf.keras.layers.BatchNormalization())\n",
        "model.add(tf.keras.layers.Conv2D(256, 3, padding='same', activation='relu'))\n",
        "model.add(tf.keras.layers.BatchNormalization())\n",
        "model.add(tf.keras.layers.MaxPooling2D(pool_size=(2, 2)))\n",
        "model.add(tf.keras.layers.BatchNormalization())\n",
        "model.add(tf.keras.layers.Conv2D(512, 3, padding='same', activation='relu'))\n",
        "model.add(tf.keras.layers.BatchNormalization())\n",
        "model.add(tf.keras.layers.MaxPooling2D(pool_size=(2, 2)))\n",
        "model.add(tf.keras.layers.BatchNormalization())\n",
        "model.add(tf.keras.layers.Conv2D(512, 3, padding='same', activation='relu'))\n",
        "model.add(tf.keras.layers.BatchNormalization())\n",
        "model.add(tf.keras.layers.MaxPooling2D(pool_size=(1,1)))\n",
        "model.add(tf.keras.layers.BatchNormalization())\n",
        "model.add(tf.keras.layers.Conv2D(512, 3, padding='same', activation='relu'))\n",
        "model.add(tf.keras.layers.BatchNormalization())\n",
        "model.add(tf.keras.layers.MaxPooling2D(pool_size=(1,1)))\n",
        "model.add(tf.keras.layers.BatchNormalization())\n",
        "model.add(tf.keras.layers.Flatten())\n",
        "model.add(tf.keras.layers.Dense(1024, activation='relu'))\n",
        "model.add(tf.keras.layers.BatchNormalization())\n",
        "model.add(tf.keras.layers.Dropout(0.2))\n",
        "model.add(tf.keras.layers.Dense(len(class_labels), activation='softmax'))"
      ],
      "metadata": {
        "id": "sI0jhHaPcbzY"
      },
      "execution_count": null,
      "outputs": []
    },
    {
      "cell_type": "code",
      "source": [
        "# Compile model\n",
        "model.compile(\n",
        "    loss='categorical_crossentropy',\n",
        "    optimizer=SGD(learning_rate=0.0001, momentum=0.6),\n",
        "    metrics=['accuracy'],\n",
        ")"
      ],
      "metadata": {
        "id": "3z7XzdBJmb0o"
      },
      "execution_count": null,
      "outputs": []
    },
    {
      "cell_type": "code",
      "source": [
        "history = model.fit(X_train, y_train, epochs=15, validation_data=(X_test, y_test))"
      ],
      "metadata": {
        "colab": {
          "base_uri": "https://localhost:8080/"
        },
        "id": "c5rHFX-PmbxJ",
        "outputId": "22e84111-6e50-4ccf-e4d9-555d06183f42"
      },
      "execution_count": null,
      "outputs": [
        {
          "output_type": "stream",
          "name": "stdout",
          "text": [
            "Epoch 1/15\n",
            "472/472 [==============================] - 338s 714ms/step - loss: 10.8471 - accuracy: 0.1026 - val_loss: 13.8781 - val_accuracy: 0.0143\n",
            "Epoch 2/15\n",
            "472/472 [==============================] - 336s 712ms/step - loss: 9.7396 - accuracy: 0.1750 - val_loss: 9.1714 - val_accuracy: 0.1992\n",
            "Epoch 3/15\n",
            "472/472 [==============================] - 339s 718ms/step - loss: 9.1554 - accuracy: 0.1961 - val_loss: 9.1774 - val_accuracy: 0.1796\n",
            "Epoch 4/15\n",
            "472/472 [==============================] - 333s 706ms/step - loss: 8.8469 - accuracy: 0.2043 - val_loss: 9.3853 - val_accuracy: 0.1721\n",
            "Epoch 5/15\n",
            "472/472 [==============================] - 345s 730ms/step - loss: 8.5767 - accuracy: 0.2080 - val_loss: 8.5161 - val_accuracy: 0.2079\n",
            "Epoch 6/15\n",
            "472/472 [==============================] - 344s 729ms/step - loss: 8.3783 - accuracy: 0.2126 - val_loss: 9.2501 - val_accuracy: 0.2177\n",
            "Epoch 7/15\n",
            "472/472 [==============================] - 344s 728ms/step - loss: 8.2327 - accuracy: 0.2167 - val_loss: 8.2767 - val_accuracy: 0.2219\n",
            "Epoch 8/15\n",
            "472/472 [==============================] - 343s 728ms/step - loss: 8.1304 - accuracy: 0.2196 - val_loss: 8.9128 - val_accuracy: 0.2275\n",
            "Epoch 9/15\n",
            "472/472 [==============================] - 343s 728ms/step - loss: 8.0253 - accuracy: 0.2223 - val_loss: 8.8274 - val_accuracy: 0.2233\n",
            "Epoch 10/15\n",
            "472/472 [==============================] - 343s 727ms/step - loss: 7.9503 - accuracy: 0.2287 - val_loss: 8.5119 - val_accuracy: 0.2235\n",
            "Epoch 11/15\n",
            "472/472 [==============================] - 339s 718ms/step - loss: 7.9087 - accuracy: 0.2299 - val_loss: 8.8361 - val_accuracy: 0.2214\n",
            "Epoch 12/15\n",
            "472/472 [==============================] - 339s 718ms/step - loss: 7.9244 - accuracy: 0.2321 - val_loss: 8.6703 - val_accuracy: 0.2262\n",
            "Epoch 13/15\n",
            "472/472 [==============================] - 344s 728ms/step - loss: 7.9200 - accuracy: 0.2345 - val_loss: 8.5249 - val_accuracy: 0.2174\n",
            "Epoch 14/15\n",
            "472/472 [==============================] - 344s 728ms/step - loss: 7.9755 - accuracy: 0.2385 - val_loss: 8.7219 - val_accuracy: 0.2225\n",
            "Epoch 15/15\n",
            "472/472 [==============================] - 343s 727ms/step - loss: 8.1410 - accuracy: 0.2407 - val_loss: 11.0524 - val_accuracy: 0.2150\n"
          ]
        }
      ]
    },
    {
      "cell_type": "code",
      "source": [
        ""
      ],
      "metadata": {
        "id": "DesQeV5tTMGS"
      },
      "execution_count": null,
      "outputs": []
    }
  ]
}