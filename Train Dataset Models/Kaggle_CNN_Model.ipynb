{
  "nbformat": 4,
  "nbformat_minor": 0,
  "metadata": {
    "colab": {
      "name": "Kaggle_CNN_Model",
      "provenance": [],
      "collapsed_sections": []
    },
    "kernelspec": {
      "name": "python3",
      "display_name": "Python 3"
    },
    "language_info": {
      "name": "python"
    }
  },
  "cells": [
    {
      "cell_type": "code",
      "execution_count": 12,
      "metadata": {
        "id": "ZSLEo5hDUc1q"
      },
      "outputs": [],
      "source": [
        "import numpy as np\n",
        "import pandas as pd\n",
        "import os\n",
        "from PIL import Image\n",
        "import matplotlib.pyplot as plt\n",
        "import librosa"
      ]
    },
    {
      "cell_type": "code",
      "source": [
        "from google.colab import drive\n",
        "drive.mount('/content/drive') "
      ],
      "metadata": {
        "id": "UeRntqVrElEB",
        "outputId": "e1c8d3ec-cdde-44f9-93bd-5fc65d6c4486",
        "colab": {
          "base_uri": "https://localhost:8080/"
        }
      },
      "execution_count": 13,
      "outputs": [
        {
          "output_type": "stream",
          "name": "stdout",
          "text": [
            "Drive already mounted at /content/drive; to attempt to forcibly remount, call drive.mount(\"/content/drive\", force_remount=True).\n"
          ]
        }
      ]
    },
    {
      "cell_type": "code",
      "source": [
        "def create_dataset(folder_path): \n",
        "\n",
        "  images = []\n",
        "  names = []\n",
        "  max_length = 0\n",
        "  for file in os.listdir(folder_path):\n",
        "    \n",
        "    image_path = os.path.join(folder_path, file)\n",
        "    size = Image.open(image_path).size\n",
        "    image = np.array(Image.open(image_path).resize((128,128)))\n",
        "    image = image.astype('float32')\n",
        "    image = np.delete(image, [3], axis=2)\n",
        "    #Normalization\n",
        "    image /= 255.0\n",
        "    images.append(image)\n",
        "    names.append(file[:-4])\n",
        "    if image.shape[1]>max_length:\n",
        "      max_length = image.shape[1]\n",
        "\n",
        "  for i in range(len(images)):\n",
        "    images[i] = librosa.util.fix_length(images[i], max_length, axis=1)\n",
        "\n",
        "  images = np.array(images)\n",
        "\n",
        "  df = pd.read_csv('/content/drive/MyDrive/Deneme/clotho_metadata_development.csv')\n",
        "\n",
        "  keywords = []\n",
        "  for i in names:\n",
        "    keywords.append(df.keywords[df.file_name == i].to_list()[0].lower().split(';'))\n",
        "\n",
        "  return names,images,keywords"
      ],
      "metadata": {
        "id": "9G5r3tZAUtrH"
      },
      "execution_count": 14,
      "outputs": []
    },
    {
      "cell_type": "code",
      "source": [
        "names, images, keywords = create_dataset(\"/content/drive/MyDrive/Train Images\")"
      ],
      "metadata": {
        "id": "P_b3nEq-U22w"
      },
      "execution_count": 15,
      "outputs": []
    },
    {
      "cell_type": "code",
      "source": [
        "all_words = []\n",
        "for i in keywords:\n",
        "  for j in i:\n",
        "    if len(j)>2:\n",
        "      all_words.append(j)\n",
        "\n",
        "len(all_words)"
      ],
      "metadata": {
        "id": "cV4OnpTdEV0L",
        "outputId": "b2556569-c249-4845-b7e3-214d208d0060",
        "colab": {
          "base_uri": "https://localhost:8080/"
        }
      },
      "execution_count": 16,
      "outputs": [
        {
          "output_type": "execute_result",
          "data": {
            "text/plain": [
              "21309"
            ]
          },
          "metadata": {},
          "execution_count": 16
        }
      ]
    },
    {
      "cell_type": "code",
      "source": [
        "from collections import Counter\n",
        "\n",
        "frequency_list = Counter(all_words).most_common(300)"
      ],
      "metadata": {
        "id": "kwGoLU1SIEUG"
      },
      "execution_count": 17,
      "outputs": []
    },
    {
      "cell_type": "code",
      "source": [
        "keywords_updated = []\n",
        "for j in range(len(keywords)):\n",
        "  keyword_list = []\n",
        "  for i in frequency_list:\n",
        "    if i[0] in keywords[j]:\n",
        "      keyword_list.append(i[0])\n",
        "  keywords_updated.append(keyword_list)"
      ],
      "metadata": {
        "id": "ZtL-YKsHGXrR"
      },
      "execution_count": 18,
      "outputs": []
    },
    {
      "cell_type": "code",
      "source": [
        "from sklearn.preprocessing import MultiLabelBinarizer\n",
        "mlb = MultiLabelBinarizer()\n",
        "multihot = mlb.fit_transform(keywords_updated)\n",
        "class_labels = list(mlb.classes_)"
      ],
      "metadata": {
        "id": "n_iGNl4KLw8B"
      },
      "execution_count": 19,
      "outputs": []
    },
    {
      "cell_type": "code",
      "source": [
        "from sklearn.model_selection import train_test_split\n",
        "X_train, X_test, y_train, y_test = train_test_split(images, multihot, test_size=0.15, random_state=33)\n",
        "print(X_train.shape,X_test.shape)"
      ],
      "metadata": {
        "id": "KPyPRTikM92_",
        "outputId": "2ab18033-c81b-4187-c35c-735eeb4548a1",
        "colab": {
          "base_uri": "https://localhost:8080/"
        }
      },
      "execution_count": 20,
      "outputs": [
        {
          "output_type": "stream",
          "name": "stdout",
          "text": [
            "(2459, 128, 128, 3) (434, 128, 128, 3)\n"
          ]
        }
      ]
    },
    {
      "cell_type": "code",
      "source": [
        "import tensorflow as tf\n",
        "from tensorflow.keras import layers, models, optimizers\n",
        "from tensorflow.keras.models import Sequential\n",
        "from tensorflow.keras.optimizers import SGD\n",
        "from tensorflow.keras.layers import Conv2D, MaxPooling2D, Flatten, Dense"
      ],
      "metadata": {
        "id": "zxOR-c_BnrEC"
      },
      "execution_count": 21,
      "outputs": []
    },
    {
      "cell_type": "markdown",
      "source": [
        "## LEARNING RATE AND MOMENTUM'S EFFECT IN MODEL"
      ],
      "metadata": {
        "id": "GjvINJyX4h_C"
      }
    },
    {
      "cell_type": "code",
      "source": [
        "#reference: https://www.kaggle.com/christianlillelund/classify-mnist-audio-using-spectrograms-keras-cnn\n",
        "\n",
        "\n",
        "model = tf.keras.models.Sequential()\n",
        "model.add(tf.keras.layers.Input(shape=(128,128, 3)))\n",
        "model.add(tf.keras.layers.Conv2D(32, 3, strides=2, padding='same', activation='relu'))\n",
        "model.add(tf.keras.layers.BatchNormalization())\n",
        "model.add(tf.keras.layers.MaxPooling2D(pool_size=(2, 2)))\n",
        "model.add(tf.keras.layers.BatchNormalization())\n",
        "model.add(tf.keras.layers.Conv2D(64, 3, padding='same', activation='relu'))\n",
        "model.add(tf.keras.layers.BatchNormalization())\n",
        "model.add(tf.keras.layers.MaxPooling2D(pool_size=(2, 2)))\n",
        "model.add(tf.keras.layers.BatchNormalization())\n",
        "model.add(tf.keras.layers.Conv2D(128, 3, padding='same', activation='relu'))\n",
        "model.add(tf.keras.layers.BatchNormalization())\n",
        "model.add(tf.keras.layers.MaxPooling2D(pool_size=(2, 2)))\n",
        "model.add(tf.keras.layers.BatchNormalization())\n",
        "model.add(tf.keras.layers.Flatten())\n",
        "model.add(tf.keras.layers.Dense(256, activation='relu'))\n",
        "model.add(tf.keras.layers.BatchNormalization())\n",
        "model.add(tf.keras.layers.Dropout(0.5))\n",
        "model.add(tf.keras.layers.Dense(300, activation='softmax'))\n",
        "\n",
        "# Compile model\n",
        "\n",
        "accuracy_list = []\n",
        "momentum_list = []\n",
        "lr_list = []\n",
        "for i in range(4):\n",
        "  list_2 = []\n",
        "  for j in range(1,5):\n",
        "    model.compile(\n",
        "        loss='categorical_crossentropy',\n",
        "        optimizer=SGD(learning_rate = 0.0002*j , momentum = i/10),\n",
        "        metrics=['accuracy'],\n",
        "        )\n",
        "\n",
        "    fit = model.fit(X_train, y_train, epochs=10, verbose = 0)\n",
        "    _, acc = model.evaluate(X_test, y_test, verbose = 1)   \n",
        "    lr_list.append(0.0002*j)\n",
        "    list_2.append(acc)\n",
        "  momentum_list.append(i/10)\n",
        "  accuracy_list.append(list_2)\n",
        "  f = open(\"accuracies.txt\", \"a\")\n",
        "  f.write(\"momentum: \" + str(i/10) + \"lr: \" + str(0.0002*j))\n",
        "  f.write(\"\\n\" + str(accuracy_list))\n",
        "  f.close()"
      ],
      "metadata": {
        "id": "ChHmK1CyQveD",
        "colab": {
          "base_uri": "https://localhost:8080/"
        },
        "outputId": "87db02e4-9dbb-4b93-c5cc-f71c49668ccd"
      },
      "execution_count": 22,
      "outputs": [
        {
          "output_type": "stream",
          "name": "stdout",
          "text": [
            "14/14 [==============================] - 1s 87ms/step - loss: 22.6647 - accuracy: 0.0553\n",
            "14/14 [==============================] - 1s 87ms/step - loss: 22.1104 - accuracy: 0.0760\n",
            "14/14 [==============================] - 1s 90ms/step - loss: 22.3389 - accuracy: 0.0853\n",
            "14/14 [==============================] - 1s 88ms/step - loss: 23.6150 - accuracy: 0.0714\n",
            "14/14 [==============================] - 1s 90ms/step - loss: 23.5673 - accuracy: 0.0876\n",
            "14/14 [==============================] - 1s 88ms/step - loss: 26.1400 - accuracy: 0.0876\n",
            "14/14 [==============================] - 1s 88ms/step - loss: 32.6191 - accuracy: 0.0783\n",
            "14/14 [==============================] - 1s 90ms/step - loss: 32.8114 - accuracy: 0.0760\n",
            "14/14 [==============================] - 1s 89ms/step - loss: 44.2825 - accuracy: 0.0737\n",
            "14/14 [==============================] - 1s 88ms/step - loss: 36.5415 - accuracy: 0.0899\n",
            "14/14 [==============================] - 1s 89ms/step - loss: 49.7052 - accuracy: 0.0829\n",
            "14/14 [==============================] - 1s 90ms/step - loss: 84.7710 - accuracy: 0.0691\n",
            "14/14 [==============================] - 1s 88ms/step - loss: 101.3114 - accuracy: 0.0599\n",
            "14/14 [==============================] - 1s 89ms/step - loss: 122.1317 - accuracy: 0.0691\n",
            "14/14 [==============================] - 1s 91ms/step - loss: 125.7199 - accuracy: 0.0599\n",
            "14/14 [==============================] - 1s 89ms/step - loss: 185.4615 - accuracy: 0.0438\n"
          ]
        }
      ]
    },
    {
      "cell_type": "code",
      "source": [
        "acc_list = []\n",
        "for i in range(4):\n",
        "  temp_1 = accuracy_list[1][i*4:(i+1)*4]\n",
        "  acc_list.append(temp_1)"
      ],
      "metadata": {
        "id": "vMdcMq6dzP7Y"
      },
      "execution_count": 40,
      "outputs": []
    },
    {
      "cell_type": "code",
      "source": [
        "import seaborn as sns\n",
        "\n",
        "y_axis_labels = lr_list[:4]\n",
        "x_axis_labels = momentum_list[:4]\n",
        "fig, ax = plt.subplots(figsize=(12,10))   \n",
        "ax = sns.heatmap(acc_list, cbar=True, annot=True, cmap = 'Reds', xticklabels=x_axis_labels, yticklabels=y_axis_labels)\n",
        "ax.set(ylabel='Learning Rate', xlabel='Momentum')\n",
        "ax.plot()"
      ],
      "metadata": {
        "id": "06h_kp8ladQi",
        "colab": {
          "base_uri": "https://localhost:8080/",
          "height": 624
        },
        "outputId": "8366300c-2d7e-424c-e65d-5ff15ab6f8dc"
      },
      "execution_count": 54,
      "outputs": [
        {
          "output_type": "execute_result",
          "data": {
            "text/plain": [
              "[]"
            ]
          },
          "metadata": {},
          "execution_count": 54
        },
        {
          "output_type": "display_data",
          "data": {
            "image/png": "[encoded data removed]",
            "text/plain": [
              "<Figure size 864x720 with 2 Axes>"
            ]
          },
          "metadata": {
            "needs_background": "light"
          }
        }
      ]
    },
    {
      "cell_type": "code",
      "source": [
        ""
      ],
      "metadata": {
        "id": "uwr2zhgezAjo"
      },
      "execution_count": null,
      "outputs": []
    }
  ]
}