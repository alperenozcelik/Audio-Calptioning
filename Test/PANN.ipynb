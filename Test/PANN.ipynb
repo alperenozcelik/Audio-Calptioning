{
  "nbformat": 4,
  "nbformat_minor": 0,
  "metadata": {
    "colab": {
      "name": "PANN.ipynb",
      "provenance": [],
      "collapsed_sections": []
    },
    "kernelspec": {
      "name": "python3",
      "display_name": "Python 3"
    },
    "language_info": {
      "name": "python"
    }
  },
  "cells": [
    {
      "cell_type": "code",
      "source": [
        "! pip install panns-inference\n",
        "!pip install keytotext --upgrade"
      ],
      "metadata": {
        "id": "3YBuwd4Z9r2Y"
      },
      "execution_count": null,
      "outputs": []
    },
    {
      "cell_type": "code",
      "source": [
        "from keytotext import pipeline\n",
        "nlp = pipeline(\"mrm8488/t5-base-finetuned-common_gen\")\n",
        "k2t_new = pipeline(\"k2t-new\")"
      ],
      "metadata": {
        "id": "5zLWR5j0De-P"
      },
      "execution_count": null,
      "outputs": []
    },
    {
      "cell_type": "code",
      "execution_count": null,
      "metadata": {
        "id": "02rk93OH9kFQ"
      },
      "outputs": [],
      "source": [
        "import os\n",
        "import matplotlib.pyplot as plt\n",
        "import pandas as pd\n",
        "import numpy as np\n",
        "import librosa\n",
        "import panns_inference\n",
        "from panns_inference import AudioTagging, SoundEventDetection, labels"
      ]
    },
    {
      "cell_type": "code",
      "source": [
        "df = pd.read_csv('/content/drive/MyDrive/clotho_captions_evaluation.csv')\n",
        "folder_path = '/content/drive/MyDrive/clotho test'\n",
        "\n",
        "candidates1 = []\n",
        "candidates2 = []\n",
        "references = []\n",
        "for sample in os.listdir(folder_path):\n",
        "  sample = os.listdir(folder_path)[j]\n",
        "  audio_path = os.path.join(folder_path, sample)\n",
        "  (audio, _) = librosa.core.load(audio_path, sr=32000, mono=True)\n",
        "  audio = audio[None, :]\n",
        "  at = AudioTagging(checkpoint_path=None, device='cpu')\n",
        "  (clipwise_output, embedding) = at.inference(audio)\n",
        "  sorted_indexes = np.argsort(clipwise_output[0])[::-1]\n",
        "  keywords = []\n",
        "  for i in range(3):\n",
        "    keywords.append(np.array(labels)[sorted_indexes[i]])\n",
        "  sentence1 = k2t_new(keywords)\n",
        "  candidates1.append(str(sentence1).split())\n",
        "  sentence2 = nlp(keywords)\n",
        "  candidates2.append(str(sentence2).split())\n",
        "  reference = []\n",
        "  test_sample = df[df.file_name == sample]\n",
        "  reference.append(str(test_sample.caption_1.to_list()[0]).split())\n",
        "  reference.append(str(test_sample.caption_2.to_list()[0]).split())\n",
        "  reference.append(str(test_sample.caption_3.to_list()[0]).split())\n",
        "  reference.append(str(test_sample.caption_4.to_list()[0]).split())\n",
        "  reference.append(str(test_sample.caption_5.to_list()[0]).split())\n",
        "  references.append(reference)"
      ],
      "metadata": {
        "id": "QlAWHSwH9n-Z"
      },
      "execution_count": null,
      "outputs": []
    },
    {
      "cell_type": "markdown",
      "source": [
        "Clotho Caption:"
      ],
      "metadata": {
        "id": "cAdsb7iROVuu"
      }
    },
    {
      "cell_type": "code",
      "source": [
        "print(' '.join(references[8][1]))"
      ],
      "metadata": {
        "colab": {
          "base_uri": "https://localhost:8080/"
        },
        "id": "b8OEN4cQN6ff",
        "outputId": "45ae524a-7816-49a9-ee17-1d3527dbeb8f"
      },
      "execution_count": null,
      "outputs": [
        {
          "output_type": "stream",
          "name": "stdout",
          "text": [
            "A fork is being banged onto a drinking glass.\n"
          ]
        }
      ]
    },
    {
      "cell_type": "markdown",
      "source": [
        "Prediction:"
      ],
      "metadata": {
        "id": "byvfIG2BOVVD"
      }
    },
    {
      "cell_type": "code",
      "source": [
        "print(' '.join(candidates1[8]))"
      ],
      "metadata": {
        "colab": {
          "base_uri": "https://localhost:8080/"
        },
        "id": "oO7AzNQMNxyJ",
        "outputId": "f75f6696-682b-4e4c-8380-c246b95f1df6"
      },
      "execution_count": null,
      "outputs": [
        {
          "output_type": "stream",
          "name": "stdout",
          "text": [
            "A man is clinking a glass in a room.\n"
          ]
        }
      ]
    },
    {
      "cell_type": "code",
      "source": [
        "from nltk.translate.bleu_score import corpus_bleu, sentence_bleu\n",
        "from nltk.translate.bleu_score import SmoothingFunction"
      ],
      "metadata": {
        "id": "Xzfpic0EFGfs"
      },
      "execution_count": null,
      "outputs": []
    },
    {
      "cell_type": "code",
      "source": [
        "print('bleu1: ', corpus_bleu(references, candidates1, weights=(1, 0, 0, 0)))\n",
        "print('bleu2: ', corpus_bleu(references, candidates1, weights=(0, 1, 0, 0)))"
      ],
      "metadata": {
        "colab": {
          "base_uri": "https://localhost:8080/"
        },
        "id": "x6a1Jc_cTxHU",
        "outputId": "a2f02b23-8d16-4521-97e2-e09ebde0a11d"
      },
      "execution_count": null,
      "outputs": [
        {
          "output_type": "stream",
          "name": "stdout",
          "text": [
            "bleu1:  0.35570755629562534\n",
            "bleu2:  0.04294820732298278\n"
          ]
        },
        {
          "output_type": "stream",
          "name": "stderr",
          "text": [
            "/usr/local/lib/python3.7/dist-packages/nltk/translate/bleu_score.py:490: UserWarning: \n",
            "Corpus/Sentence contains 0 counts of 4-gram overlaps.\n",
            "BLEU scores might be undesirable; use SmoothingFunction().\n",
            "  warnings.warn(_msg)\n"
          ]
        }
      ]
    },
    {
      "cell_type": "code",
      "source": [
        ""
      ],
      "metadata": {
        "id": "6BorkGyuMLrf"
      },
      "execution_count": null,
      "outputs": []
    }
  ]
}