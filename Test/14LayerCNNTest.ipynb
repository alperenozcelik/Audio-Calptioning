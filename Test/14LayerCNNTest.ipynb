{
  "nbformat": 4,
  "nbformat_minor": 0,
  "metadata": {
    "colab": {
      "name": "14LayerCNN.ipynb",
      "provenance": [],
      "collapsed_sections": []
    },
    "kernelspec": {
      "name": "python3",
      "display_name": "Python 3"
    },
    "language_info": {
      "name": "python"
    }
  },
  "cells": [
    {
      "cell_type": "code",
      "execution_count": null,
      "metadata": {
        "id": "gGI2GGp7Nf3e"
      },
      "outputs": [],
      "source": [
        "import numpy as np\n",
        "import pandas as pd\n",
        "import os\n",
        "import sys\n",
        "from PIL import Image\n",
        "import matplotlib.pyplot as plt\n",
        "import librosa\n",
        "import json"
      ]
    },
    {
      "cell_type": "code",
      "source": [
        "def create_dataset(folder_path): \n",
        "  images = []\n",
        "  names = []\n",
        "  for file in os.listdir(folder_path):\n",
        "    image_path = os.path.join(folder_path, file)\n",
        "\n",
        "    size = Image.open(image_path).size\n",
        "    image = np.array(Image.open(image_path).resize((int(size[0]/4),int(size[1]/2))))\n",
        "    image = image.astype('float32')\n",
        "    image = np.delete(image, [3], axis=2)\n",
        "\n",
        "    image /= 255.0\n",
        "    if file[:-4] != 'axqtExFY5-s (1)':\n",
        "      images.append(image)\n",
        "      names.append(file[:-4])\n",
        "\n",
        "  max_len = 0\n",
        "  for i in range(len(images)):\n",
        "    length = images[i].shape[1]\n",
        "    if length>max_len:\n",
        "      max_len=length\n",
        "\n",
        "  for i in range(len(images)):\n",
        "    images[i] = librosa.util.fix_length(images[i], int(max_len), axis=1)\n",
        "\n",
        "  images = np.array(images)\n",
        "\n",
        "  df = pd.read_csv('/content/drive/MyDrive/YouTubeID_and_Keywords.csv')\n",
        "\n",
        "  keywords = []\n",
        "  for i in names:\n",
        "    if i in df.YTID.to_list():\n",
        "      keys = df.Keywords[df.YTID == i].to_list()\n",
        "      keywords.append(keys[0].split(';'))\n",
        "    else:\n",
        "      print(i)\n",
        "\n",
        "  return names,images,keywords"
      ],
      "metadata": {
        "id": "iLt1nIUMTwGY"
      },
      "execution_count": null,
      "outputs": []
    },
    {
      "cell_type": "code",
      "source": [
        "names, images, keywords = create_dataset('/content/drive/MyDrive/Pre-Training Images')"
      ],
      "metadata": {
        "id": "pNupl540UAhf"
      },
      "execution_count": null,
      "outputs": []
    },
    {
      "cell_type": "code",
      "source": [
        "all_words = []\n",
        "for i in keywords:\n",
        "  for j in i:\n",
        "    if len(j)>2:\n",
        "      all_words.append(j)\n",
        "\n",
        "len(all_words)"
      ],
      "metadata": {
        "id": "alDffuaqI7JD",
        "outputId": "7a2e8ff0-220f-44a1-b20d-2f88bb134cec",
        "colab": {
          "base_uri": "https://localhost:8080/"
        }
      },
      "execution_count": null,
      "outputs": [
        {
          "output_type": "execute_result",
          "data": {
            "text/plain": [
              "45288"
            ]
          },
          "metadata": {},
          "execution_count": 32
        }
      ]
    },
    {
      "cell_type": "code",
      "source": [
        "from collections import Counter\n",
        "\n",
        "frequency_list = Counter(all_words).most_common(300)"
      ],
      "metadata": {
        "id": "3Cnv8um2JDrz"
      },
      "execution_count": null,
      "outputs": []
    },
    {
      "cell_type": "code",
      "source": [
        "keywords_updated = []\n",
        "for j in range(len(keywords)):\n",
        "  keyword_list = []\n",
        "  for i in frequency_list:\n",
        "    if i[0] in keywords[j]:\n",
        "      keyword_list.append(i[0])\n",
        "  keywords_updated.append(keyword_list)"
      ],
      "metadata": {
        "id": "nE7_iZg_JGzH"
      },
      "execution_count": null,
      "outputs": []
    },
    {
      "cell_type": "code",
      "source": [
        "from sklearn.preprocessing import MultiLabelBinarizer\n",
        "mlb = MultiLabelBinarizer()\n",
        "multihot = mlb.fit_transform(keywords_updated)\n",
        "class_labels = list(mlb.classes_)\n",
        "print(len(class_labels))"
      ],
      "metadata": {
        "id": "HfD7rDzovTcJ",
        "colab": {
          "base_uri": "https://localhost:8080/"
        },
        "outputId": "a7ca483f-336d-4b7d-fe17-c76403788d76"
      },
      "execution_count": null,
      "outputs": [
        {
          "output_type": "stream",
          "name": "stdout",
          "text": [
            "300\n"
          ]
        }
      ]
    },
    {
      "cell_type": "code",
      "source": [
        "from sklearn.model_selection import train_test_split\n",
        "X_train, X_test, y_train, y_test = train_test_split(images, multihot, test_size=0.20, random_state=42)\n",
        "print(X_train.shape, X_test.shape, y_train.shape, y_test.shape)"
      ],
      "metadata": {
        "id": "JT6NULOtvTVP",
        "colab": {
          "base_uri": "https://localhost:8080/"
        },
        "outputId": "8e1bcee2-ebf7-4973-a361-901d5e30eb2f"
      },
      "execution_count": null,
      "outputs": [
        {
          "output_type": "stream",
          "name": "stdout",
          "text": [
            "(15100, 64, 107, 3) (3776, 64, 107, 3) (15100, 300) (3776, 300)\n"
          ]
        }
      ]
    },
    {
      "cell_type": "code",
      "source": [
        "from sklearn.utils import shuffle\n",
        "from tensorflow.keras.utils import to_categorical\n",
        "from keras.models import Sequential\n",
        "from keras.layers import Dense, Dropout, Conv2D, MaxPool2D, Flatten\n",
        "from tensorflow.keras.optimizers import SGD\n",
        "from keras.layers.pooling import AveragePooling2D\n",
        "from keras.layers.normalization.batch_normalization import BatchNormalization\n",
        "import tensorflow as tf"
      ],
      "metadata": {
        "id": "1Ax77YNINpmd"
      },
      "execution_count": null,
      "outputs": []
    },
    {
      "cell_type": "code",
      "source": [
        "# Create CNN model\n",
        "model = tf.keras.models.Sequential()\n",
        "model.add(tf.keras.layers.Input(shape=(64, 107, 3)))\n",
        "model.add(tf.keras.layers.Conv2D(64, 3, strides=2, padding='same', activation='relu'))\n",
        "model.add(tf.keras.layers.BatchNormalization())\n",
        "model.add(tf.keras.layers.MaxPooling2D(pool_size=(2, 2)))\n",
        "model.add(tf.keras.layers.BatchNormalization())\n",
        "model.add(tf.keras.layers.Conv2D(128, 3, strides=2, padding='same', activation='relu'))\n",
        "model.add(tf.keras.layers.BatchNormalization())\n",
        "model.add(tf.keras.layers.MaxPooling2D(pool_size=(2, 2)))\n",
        "model.add(tf.keras.layers.BatchNormalization())\n",
        "model.add(tf.keras.layers.Conv2D(256, 3, padding='same', activation='relu'))\n",
        "model.add(tf.keras.layers.BatchNormalization())\n",
        "model.add(tf.keras.layers.MaxPooling2D(pool_size=(2, 2)))\n",
        "model.add(tf.keras.layers.BatchNormalization())\n",
        "model.add(tf.keras.layers.Conv2D(512, 3, padding='same', activation='relu'))\n",
        "model.add(tf.keras.layers.BatchNormalization())\n",
        "model.add(tf.keras.layers.MaxPooling2D(pool_size=(2, 2)))\n",
        "model.add(tf.keras.layers.BatchNormalization())\n",
        "model.add(tf.keras.layers.Conv2D(512, 3, padding='same', activation='relu'))\n",
        "model.add(tf.keras.layers.BatchNormalization())\n",
        "model.add(tf.keras.layers.MaxPooling2D(pool_size=(1,1)))\n",
        "model.add(tf.keras.layers.BatchNormalization())\n",
        "model.add(tf.keras.layers.Conv2D(512, 3, padding='same', activation='relu'))\n",
        "model.add(tf.keras.layers.BatchNormalization())\n",
        "model.add(tf.keras.layers.MaxPooling2D(pool_size=(1,1)))\n",
        "model.add(tf.keras.layers.BatchNormalization())\n",
        "model.add(tf.keras.layers.Flatten())\n",
        "model.add(tf.keras.layers.Dense(1024, activation='relu'))\n",
        "model.add(tf.keras.layers.BatchNormalization())\n",
        "model.add(tf.keras.layers.Dropout(0.2))\n",
        "model.add(tf.keras.layers.Dense(len(class_labels), activation='softmax'))"
      ],
      "metadata": {
        "id": "sI0jhHaPcbzY"
      },
      "execution_count": null,
      "outputs": []
    },
    {
      "cell_type": "code",
      "source": [
        "# Compile model\n",
        "model.compile(\n",
        "    loss='categorical_crossentropy',\n",
        "    optimizer=SGD(learning_rate=0.0001, momentum=0.6),\n",
        "    metrics=['accuracy'],\n",
        ")"
      ],
      "metadata": {
        "id": "3z7XzdBJmb0o"
      },
      "execution_count": null,
      "outputs": []
    },
    {
      "cell_type": "code",
      "source": [
        "history = model.fit(X_train, y_train, epochs=15, validation_data=(X_test, y_test))"
      ],
      "metadata": {
        "colab": {
          "base_uri": "https://localhost:8080/"
        },
        "id": "c5rHFX-PmbxJ",
        "outputId": "22e84111-6e50-4ccf-e4d9-555d06183f42"
      },
      "execution_count": null,
      "outputs": [
        {
          "output_type": "stream",
          "name": "stdout",
          "text": [
            "Epoch 1/15\n",
            "472/472 [==============================] - 338s 714ms/step - loss: 10.8471 - accuracy: 0.1026 - val_loss: 13.8781 - val_accuracy: 0.0143\n",
            "Epoch 2/15\n",
            "472/472 [==============================] - 336s 712ms/step - loss: 9.7396 - accuracy: 0.1750 - val_loss: 9.1714 - val_accuracy: 0.1992\n",
            "Epoch 3/15\n",
            "472/472 [==============================] - 339s 718ms/step - loss: 9.1554 - accuracy: 0.1961 - val_loss: 9.1774 - val_accuracy: 0.1796\n",
            "Epoch 4/15\n",
            "472/472 [==============================] - 333s 706ms/step - loss: 8.8469 - accuracy: 0.2043 - val_loss: 9.3853 - val_accuracy: 0.1721\n",
            "Epoch 5/15\n",
            "472/472 [==============================] - 345s 730ms/step - loss: 8.5767 - accuracy: 0.2080 - val_loss: 8.5161 - val_accuracy: 0.2079\n",
            "Epoch 6/15\n",
            "472/472 [==============================] - 344s 729ms/step - loss: 8.3783 - accuracy: 0.2126 - val_loss: 9.2501 - val_accuracy: 0.2177\n",
            "Epoch 7/15\n",
            "472/472 [==============================] - 344s 728ms/step - loss: 8.2327 - accuracy: 0.2167 - val_loss: 8.2767 - val_accuracy: 0.2219\n",
            "Epoch 8/15\n",
            "472/472 [==============================] - 343s 728ms/step - loss: 8.1304 - accuracy: 0.2196 - val_loss: 8.9128 - val_accuracy: 0.2275\n",
            "Epoch 9/15\n",
            "472/472 [==============================] - 343s 728ms/step - loss: 8.0253 - accuracy: 0.2223 - val_loss: 8.8274 - val_accuracy: 0.2233\n",
            "Epoch 10/15\n",
            "472/472 [==============================] - 343s 727ms/step - loss: 7.9503 - accuracy: 0.2287 - val_loss: 8.5119 - val_accuracy: 0.2235\n",
            "Epoch 11/15\n",
            "472/472 [==============================] - 339s 718ms/step - loss: 7.9087 - accuracy: 0.2299 - val_loss: 8.8361 - val_accuracy: 0.2214\n",
            "Epoch 12/15\n",
            "472/472 [==============================] - 339s 718ms/step - loss: 7.9244 - accuracy: 0.2321 - val_loss: 8.6703 - val_accuracy: 0.2262\n",
            "Epoch 13/15\n",
            "472/472 [==============================] - 344s 728ms/step - loss: 7.9200 - accuracy: 0.2345 - val_loss: 8.5249 - val_accuracy: 0.2174\n",
            "Epoch 14/15\n",
            "472/472 [==============================] - 344s 728ms/step - loss: 7.9755 - accuracy: 0.2385 - val_loss: 8.7219 - val_accuracy: 0.2225\n",
            "Epoch 15/15\n",
            "472/472 [==============================] - 343s 727ms/step - loss: 8.1410 - accuracy: 0.2407 - val_loss: 11.0524 - val_accuracy: 0.2150\n"
          ]
        }
      ]
    },
    {
      "cell_type": "code",
      "source": [
        "def create_testset(folder_path): \n",
        "  images = []\n",
        "  names = []\n",
        "  for file in os.listdir(folder_path):\n",
        "    file = os.listdir(folder_path)[j]\n",
        "    \n",
        "    image_path = os.path.join(folder_path, file)\n",
        "\n",
        "    size = Image.open(image_path).size\n",
        "    image = np.array(Image.open(image_path).resize((int(size[0]/4),int(size[1]/2))))\n",
        "    image = image.astype('float32')\n",
        "    image = np.delete(image, [3], axis=2)\n",
        "\n",
        "    image /= 255.0\n",
        "    if file[:-4] != 'axqtExFY5-s (1)':\n",
        "      images.append(image)\n",
        "      names.append(file[:-4])\n",
        "\n",
        "  for i in range(len(images)):\n",
        "    images[i] = librosa.util.fix_length(images[i], 107, axis=1)\n",
        "\n",
        "  images = np.array(images)\n",
        "\n",
        "  return names,images"
      ],
      "metadata": {
        "id": "_w5_p03lmbvC"
      },
      "execution_count": null,
      "outputs": []
    },
    {
      "cell_type": "code",
      "source": [
        "test_names, test_images = create_testset('/content/drive/MyDrive/Test Images')"
      ],
      "metadata": {
        "id": "cu_-8_FCpkaO"
      },
      "execution_count": null,
      "outputs": []
    },
    {
      "cell_type": "code",
      "source": [
        "predictions = model.predict(test_images)"
      ],
      "metadata": {
        "id": "pt2FeE660S5Z"
      },
      "execution_count": null,
      "outputs": []
    },
    {
      "cell_type": "code",
      "source": [
        "pred_labels = []\n",
        "for j in predictions:\n",
        "  pred_label = []\n",
        "  for i in range(len(j)):\n",
        "    sorted_labels = []\n",
        "    pred_label.append(str(j[i]) + ' ' + class_labels[i])\n",
        "    sorted_label = np.sort(pred_label)[::-1][:1]\n",
        "    for i in sorted_label:\n",
        "      a = i.split(' ')[1:]\n",
        "      sorted_labels.append(' '.join(a))\n",
        "  pred_labels.append(sorted_labels)"
      ],
      "metadata": {
        "id": "3B0glBIx0d8q"
      },
      "execution_count": null,
      "outputs": []
    },
    {
      "cell_type": "code",
      "source": [
        "!pip install panns-inference\n",
        "!pip install keytotext --upgrade"
      ],
      "metadata": {
        "id": "Er_jmWZO102w"
      },
      "execution_count": null,
      "outputs": []
    },
    {
      "cell_type": "code",
      "source": [
        "from keytotext import pipeline\n",
        "nlp = pipeline(\"mrm8488/t5-base-finetuned-common_gen\")\n",
        "k2t_new = pipeline(\"k2t-new\")"
      ],
      "metadata": {
        "id": "LGOSN2HH3yED"
      },
      "execution_count": null,
      "outputs": []
    },
    {
      "cell_type": "code",
      "source": [
        "df = pd.read_csv('/content/drive/MyDrive/clotho_captions_evaluation.csv')\n",
        "df.head(3)"
      ],
      "metadata": {
        "colab": {
          "base_uri": "https://localhost:8080/",
          "height": 240
        },
        "id": "5kul4zCN35Zr",
        "outputId": "45621c10-423e-4667-d495-5907e539589d"
      },
      "execution_count": null,
      "outputs": [
        {
          "output_type": "execute_result",
          "data": {
            "text/html": [
              "\n",
              "  <div id=\"df-be713726-59d9-4596-8c28-9a3303802a4b\">\n",
              "    <div class=\"colab-df-container\">\n",
              "      <div>\n",
              "<style scoped>\n",
              "    .dataframe tbody tr th:only-of-type {\n",
              "        vertical-align: middle;\n",
              "    }\n",
              "\n",
              "    .dataframe tbody tr th {\n",
              "        vertical-align: top;\n",
              "    }\n",
              "\n",
              "    .dataframe thead th {\n",
              "        text-align: right;\n",
              "    }\n",
              "</style>\n",
              "<table border=\"1\" class=\"dataframe\">\n",
              "  <thead>\n",
              "    <tr style=\"text-align: right;\">\n",
              "      <th></th>\n",
              "      <th>file_name</th>\n",
              "      <th>caption_1</th>\n",
              "      <th>caption_2</th>\n",
              "      <th>caption_3</th>\n",
              "      <th>caption_4</th>\n",
              "      <th>caption_5</th>\n",
              "    </tr>\n",
              "  </thead>\n",
              "  <tbody>\n",
              "    <tr>\n",
              "      <th>0</th>\n",
              "      <td>Santa Motor.wav</td>\n",
              "      <td>A machine whines and squeals while rhythmicall...</td>\n",
              "      <td>A person is using electric clippers to trim bu...</td>\n",
              "      <td>Someone is trimming the bushes with electric c...</td>\n",
              "      <td>The whirring of a pump fills a bladder that tu...</td>\n",
              "      <td>While rhythmically punching or stamping, a mac...</td>\n",
              "    </tr>\n",
              "    <tr>\n",
              "      <th>1</th>\n",
              "      <td>Radio Garble.wav</td>\n",
              "      <td>A radio dispatcher and an officer are communic...</td>\n",
              "      <td>Communication with a walkie-talkie with a lot ...</td>\n",
              "      <td>A discussion with a walkie-talkie with a consi...</td>\n",
              "      <td>People talking through a walkie-talkie with ba...</td>\n",
              "      <td>The walkie-talkie the people are talking throu...</td>\n",
              "    </tr>\n",
              "    <tr>\n",
              "      <th>2</th>\n",
              "      <td>Radio Fuzz for Old Radio Broadcast FF233.wav</td>\n",
              "      <td>A radio tuner has been positioned in between r...</td>\n",
              "      <td>A transistor radio is being played on a statio...</td>\n",
              "      <td>A transistor radio is on a station that is not...</td>\n",
              "      <td>Radio static makes a constant hum with a high ...</td>\n",
              "      <td>Static coming from a radio that is in between ...</td>\n",
              "    </tr>\n",
              "  </tbody>\n",
              "</table>\n",
              "</div>\n",
              "      <button class=\"colab-df-convert\" onclick=\"convertToInteractive('df-be713726-59d9-4596-8c28-9a3303802a4b')\"\n",
              "              title=\"Convert this dataframe to an interactive table.\"\n",
              "              style=\"display:none;\">\n",
              "        \n",
              "  <svg xmlns=\"http://www.w3.org/2000/svg\" height=\"24px\"viewBox=\"0 0 24 24\"\n",
              "       width=\"24px\">\n",
              "    <path d=\"M0 0h24v24H0V0z\" fill=\"none\"/>\n",
              "    <path d=\"M18.56 5.44l.94 2.06.94-2.06 2.06-.94-2.06-.94-.94-2.06-.94 2.06-2.06.94zm-11 1L8.5 8.5l.94-2.06 2.06-.94-2.06-.94L8.5 2.5l-.94 2.06-2.06.94zm10 10l.94 2.06.94-2.06 2.06-.94-2.06-.94-.94-2.06-.94 2.06-2.06.94z\"/><path d=\"M17.41 7.96l-1.37-1.37c-.4-.4-.92-.59-1.43-.59-.52 0-1.04.2-1.43.59L10.3 9.45l-7.72 7.72c-.78.78-.78 2.05 0 2.83L4 21.41c.39.39.9.59 1.41.59.51 0 1.02-.2 1.41-.59l7.78-7.78 2.81-2.81c.8-.78.8-2.07 0-2.86zM5.41 20L4 18.59l7.72-7.72 1.47 1.35L5.41 20z\"/>\n",
              "  </svg>\n",
              "      </button>\n",
              "      \n",
              "  <style>\n",
              "    .colab-df-container {\n",
              "      display:flex;\n",
              "      flex-wrap:wrap;\n",
              "      gap: 12px;\n",
              "    }\n",
              "\n",
              "    .colab-df-convert {\n",
              "      background-color: #E8F0FE;\n",
              "      border: none;\n",
              "      border-radius: 50%;\n",
              "      cursor: pointer;\n",
              "      display: none;\n",
              "      fill: #1967D2;\n",
              "      height: 32px;\n",
              "      padding: 0 0 0 0;\n",
              "      width: 32px;\n",
              "    }\n",
              "\n",
              "    .colab-df-convert:hover {\n",
              "      background-color: #E2EBFA;\n",
              "      box-shadow: 0px 1px 2px rgba(60, 64, 67, 0.3), 0px 1px 3px 1px rgba(60, 64, 67, 0.15);\n",
              "      fill: #174EA6;\n",
              "    }\n",
              "\n",
              "    [theme=dark] .colab-df-convert {\n",
              "      background-color: #3B4455;\n",
              "      fill: #D2E3FC;\n",
              "    }\n",
              "\n",
              "    [theme=dark] .colab-df-convert:hover {\n",
              "      background-color: #434B5C;\n",
              "      box-shadow: 0px 1px 3px 1px rgba(0, 0, 0, 0.15);\n",
              "      filter: drop-shadow(0px 1px 2px rgba(0, 0, 0, 0.3));\n",
              "      fill: #FFFFFF;\n",
              "    }\n",
              "  </style>\n",
              "\n",
              "      <script>\n",
              "        const buttonEl =\n",
              "          document.querySelector('#df-be713726-59d9-4596-8c28-9a3303802a4b button.colab-df-convert');\n",
              "        buttonEl.style.display =\n",
              "          google.colab.kernel.accessAllowed ? 'block' : 'none';\n",
              "\n",
              "        async function convertToInteractive(key) {\n",
              "          const element = document.querySelector('#df-be713726-59d9-4596-8c28-9a3303802a4b');\n",
              "          const dataTable =\n",
              "            await google.colab.kernel.invokeFunction('convertToInteractive',\n",
              "                                                     [key], {});\n",
              "          if (!dataTable) return;\n",
              "\n",
              "          const docLinkHtml = 'Like what you see? Visit the ' +\n",
              "            '<a target=\"_blank\" href=https://colab.research.google.com/notebooks/data_table.ipynb>data table notebook</a>'\n",
              "            + ' to learn more about interactive tables.';\n",
              "          element.innerHTML = '';\n",
              "          dataTable['output_type'] = 'display_data';\n",
              "          await google.colab.output.renderOutput(dataTable, element);\n",
              "          const docLink = document.createElement('div');\n",
              "          docLink.innerHTML = docLinkHtml;\n",
              "          element.appendChild(docLink);\n",
              "        }\n",
              "      </script>\n",
              "    </div>\n",
              "  </div>\n",
              "  "
            ],
            "text/plain": [
              "                                      file_name  ...                                          caption_5\n",
              "0                               Santa Motor.wav  ...  While rhythmically punching or stamping, a mac...\n",
              "1                              Radio Garble.wav  ...  The walkie-talkie the people are talking throu...\n",
              "2  Radio Fuzz for Old Radio Broadcast FF233.wav  ...  Static coming from a radio that is in between ...\n",
              "\n",
              "[3 rows x 6 columns]"
            ]
          },
          "metadata": {},
          "execution_count": 80
        }
      ]
    },
    {
      "cell_type": "code",
      "source": [
        "candidates1 = []\n",
        "candidates2 = []\n",
        "references = []\n",
        "\n",
        "for i in range(len(test_names)):\n",
        "  sentence1 = k2t_new(pred_labels[i])\n",
        "  candidates1.append(str(sentence1).split())\n",
        "  sentence2 = nlp(pred_labels[i])\n",
        "  candidates2.append(str(sentence2).split())\n",
        "  reference = []\n",
        "  test_sample = df[df.file_name == test_names[i]]\n",
        "  reference.append(str(test_sample.caption_1.to_list()[0]).split())\n",
        "  reference.append(str(test_sample.caption_2.to_list()[0]).split())\n",
        "  reference.append(str(test_sample.caption_3.to_list()[0]).split())\n",
        "  reference.append(str(test_sample.caption_4.to_list()[0]).split())\n",
        "  reference.append(str(test_sample.caption_5.to_list()[0]).split())\n",
        "  references.append(reference)"
      ],
      "metadata": {
        "id": "-thdqGGT37_B"
      },
      "execution_count": null,
      "outputs": []
    },
    {
      "cell_type": "code",
      "source": [
        "from nltk.translate.bleu_score import corpus_bleu, sentence_bleu\n",
        "from nltk.translate.bleu_score import SmoothingFunction"
      ],
      "metadata": {
        "id": "Rglj8EUL5A5I"
      },
      "execution_count": null,
      "outputs": []
    },
    {
      "cell_type": "code",
      "source": [
        "bl1 = corpus_bleu(references, candidates1, weights=(1, 0, 0, 0))\n",
        "bl2 = corpus_bleu(references, candidates1, weights=(0, 1, 0, 0))"
      ],
      "metadata": {
        "id": "fSUuufqN6ZWP"
      },
      "execution_count": null,
      "outputs": []
    },
    {
      "cell_type": "code",
      "source": [
        "print(\"1-gram bleu score:\", bl1)\n",
        "print(\"2-gram bleu score:\", bl2)"
      ],
      "metadata": {
        "colab": {
          "base_uri": "https://localhost:8080/"
        },
        "id": "2xspKmCI6bNq",
        "outputId": "f8b230b1-6ce2-4a3f-9d34-864bca5d22b2"
      },
      "execution_count": null,
      "outputs": [
        {
          "output_type": "stream",
          "name": "stdout",
          "text": [
            "1-gram bleu score: 0.27072868750467616\n",
            "2-gram bleu score: 0.019185535765210256\n"
          ]
        }
      ]
    }
  ]
}